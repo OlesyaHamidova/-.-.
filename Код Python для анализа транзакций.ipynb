{
 "cells": [
  {
   "cell_type": "code",
   "execution_count": 1,
   "id": "2f1b637d-45c8-42a1-a69b-e0dba8ea1461",
   "metadata": {},
   "outputs": [],
   "source": [
    "import pandas as pd\n",
    "import requests\n",
    "import xml.etree.ElementTree as et"
   ]
  },
  {
   "cell_type": "code",
   "execution_count": 107,
   "id": "861950d5-a29c-49a1-b07a-3942c6aab2d5",
   "metadata": {},
   "outputs": [],
   "source": [
    "payments = pd.read_csv('payments.csv', usecols = ['Дата оплаты', 'Валюта', 'Сумма'], parse_dates = ['Дата оплаты'])"
   ]
  },
  {
   "cell_type": "code",
   "execution_count": 109,
   "id": "4d4c8975-db58-461b-a724-2c497103f014",
   "metadata": {},
   "outputs": [],
   "source": [
    "payments = payments [payments['Валюта'] !='RUB']"
   ]
  },
  {
   "cell_type": "code",
   "execution_count": 111,
   "id": "7e67b8bb-038f-4947-9619-112583c79df3",
   "metadata": {},
   "outputs": [
    {
     "data": {
      "text/html": [
       "<div>\n",
       "<style scoped>\n",
       "    .dataframe tbody tr th:only-of-type {\n",
       "        vertical-align: middle;\n",
       "    }\n",
       "\n",
       "    .dataframe tbody tr th {\n",
       "        vertical-align: top;\n",
       "    }\n",
       "\n",
       "    .dataframe thead th {\n",
       "        text-align: right;\n",
       "    }\n",
       "</style>\n",
       "<table border=\"1\" class=\"dataframe\">\n",
       "  <thead>\n",
       "    <tr style=\"text-align: right;\">\n",
       "      <th></th>\n",
       "      <th>Дата оплаты</th>\n",
       "      <th>Валюта</th>\n",
       "      <th>Сумма</th>\n",
       "    </tr>\n",
       "  </thead>\n",
       "  <tbody>\n",
       "    <tr>\n",
       "      <th>8</th>\n",
       "      <td>2021-05-07</td>\n",
       "      <td>EUR</td>\n",
       "      <td>187.27</td>\n",
       "    </tr>\n",
       "    <tr>\n",
       "      <th>10</th>\n",
       "      <td>2021-12-27</td>\n",
       "      <td>EUR</td>\n",
       "      <td>456.95</td>\n",
       "    </tr>\n",
       "    <tr>\n",
       "      <th>13</th>\n",
       "      <td>2021-07-23</td>\n",
       "      <td>USD</td>\n",
       "      <td>788.81</td>\n",
       "    </tr>\n",
       "    <tr>\n",
       "      <th>15</th>\n",
       "      <td>2021-05-03</td>\n",
       "      <td>EUR</td>\n",
       "      <td>160.44</td>\n",
       "    </tr>\n",
       "    <tr>\n",
       "      <th>17</th>\n",
       "      <td>2021-11-13</td>\n",
       "      <td>USD</td>\n",
       "      <td>583.45</td>\n",
       "    </tr>\n",
       "    <tr>\n",
       "      <th>...</th>\n",
       "      <td>...</td>\n",
       "      <td>...</td>\n",
       "      <td>...</td>\n",
       "    </tr>\n",
       "    <tr>\n",
       "      <th>987</th>\n",
       "      <td>2021-08-19</td>\n",
       "      <td>EUR</td>\n",
       "      <td>1180.74</td>\n",
       "    </tr>\n",
       "    <tr>\n",
       "      <th>990</th>\n",
       "      <td>2021-12-30</td>\n",
       "      <td>EUR</td>\n",
       "      <td>760.29</td>\n",
       "    </tr>\n",
       "    <tr>\n",
       "      <th>996</th>\n",
       "      <td>2021-12-07</td>\n",
       "      <td>EUR</td>\n",
       "      <td>2061.54</td>\n",
       "    </tr>\n",
       "    <tr>\n",
       "      <th>997</th>\n",
       "      <td>2021-09-30</td>\n",
       "      <td>USD</td>\n",
       "      <td>1657.81</td>\n",
       "    </tr>\n",
       "    <tr>\n",
       "      <th>998</th>\n",
       "      <td>2021-03-15</td>\n",
       "      <td>EUR</td>\n",
       "      <td>207.96</td>\n",
       "    </tr>\n",
       "  </tbody>\n",
       "</table>\n",
       "<p>271 rows × 3 columns</p>\n",
       "</div>"
      ],
      "text/plain": [
       "    Дата оплаты Валюта    Сумма\n",
       "8    2021-05-07    EUR   187.27\n",
       "10   2021-12-27    EUR   456.95\n",
       "13   2021-07-23    USD   788.81\n",
       "15   2021-05-03    EUR   160.44\n",
       "17   2021-11-13    USD   583.45\n",
       "..          ...    ...      ...\n",
       "987  2021-08-19    EUR  1180.74\n",
       "990  2021-12-30    EUR   760.29\n",
       "996  2021-12-07    EUR  2061.54\n",
       "997  2021-09-30    USD  1657.81\n",
       "998  2021-03-15    EUR   207.96\n",
       "\n",
       "[271 rows x 3 columns]"
      ]
     },
     "execution_count": 111,
     "metadata": {},
     "output_type": "execute_result"
    }
   ],
   "source": [
    "payments"
   ]
  },
  {
   "cell_type": "code",
   "execution_count": 113,
   "id": "96535cde-d486-40fd-bc21-c59506ad613a",
   "metadata": {},
   "outputs": [],
   "source": [
    "dates = payments['Дата оплаты'].unique()"
   ]
  },
  {
   "cell_type": "code",
   "execution_count": 115,
   "id": "f4d4a083-cfb9-42cf-9632-62b47cac1d5b",
   "metadata": {},
   "outputs": [
    {
     "data": {
      "text/plain": [
       "<DatetimeArray>\n",
       "['2021-05-07 00:00:00', '2021-12-27 00:00:00', '2021-07-23 00:00:00',\n",
       " '2021-05-03 00:00:00', '2021-11-13 00:00:00', '2021-11-19 00:00:00',\n",
       " '2021-06-21 00:00:00', '2021-09-02 00:00:00', '2021-02-19 00:00:00',\n",
       " '2021-12-06 00:00:00',\n",
       " ...\n",
       " '2021-06-11 00:00:00', '2021-08-01 00:00:00', '2021-09-06 00:00:00',\n",
       " '2021-07-06 00:00:00', '2021-11-09 00:00:00', '2021-03-14 00:00:00',\n",
       " '2021-10-23 00:00:00', '2021-08-19 00:00:00', '2021-12-30 00:00:00',\n",
       " '2021-09-30 00:00:00']\n",
       "Length: 186, dtype: datetime64[ns]"
      ]
     },
     "execution_count": 115,
     "metadata": {},
     "output_type": "execute_result"
    }
   ],
   "source": [
    "dates"
   ]
  },
  {
   "cell_type": "code",
   "execution_count": 117,
   "id": "10cb0c30-c31d-4dde-976e-ce187272f2b8",
   "metadata": {},
   "outputs": [
    {
     "data": {
      "text/plain": [
       "array(['EUR', 'USD'], dtype=object)"
      ]
     },
     "execution_count": 117,
     "metadata": {},
     "output_type": "execute_result"
    }
   ],
   "source": [
    "payments['Валюта'].unique()"
   ]
  },
  {
   "cell_type": "code",
   "execution_count": 119,
   "id": "0af780a9-877b-46d3-88af-d8923d54ab07",
   "metadata": {},
   "outputs": [],
   "source": [
    "tdates = dates[:1]"
   ]
  },
  {
   "cell_type": "code",
   "execution_count": 121,
   "id": "60da482a-1fdb-424a-bc59-5660b87127cf",
   "metadata": {},
   "outputs": [
    {
     "data": {
      "text/plain": [
       "<DatetimeArray>\n",
       "['2021-05-07 00:00:00']\n",
       "Length: 1, dtype: datetime64[ns]"
      ]
     },
     "execution_count": 121,
     "metadata": {},
     "output_type": "execute_result"
    }
   ],
   "source": [
    "tdates"
   ]
  },
  {
   "cell_type": "code",
   "execution_count": 123,
   "id": "08fed9c9-1ab4-400a-ac21-d39ea6d43ead",
   "metadata": {},
   "outputs": [],
   "source": [
    "rates = []\n",
    "for d in dates:\n",
    "    dt = pd.to_datetime(d).strftime('%d/%m/%Y')\n",
    "    url = 'http://cbr.ru/scripts/XML_daily.asp?date_req=' + dt\n",
    "    r = requests.get(url)\n",
    "    xml_usd = et.fromstring(r.text)[10]\n",
    "    usd = float(str.replace(xml_usd[4].text,',', '.'))\n",
    "    xml_eur = et.fromstring(r.text)[11]\n",
    "    eur = float(str.replace(xml_eur[4].text,',', '.'))\n",
    "    dt_rate = [pd.to_datetime(d), usd, eur]\n",
    "    rates.append(dt_rate)"
   ]
  },
  {
   "cell_type": "code",
   "execution_count": 124,
   "id": "222a08df-bddf-4450-a0dc-f0d617321e7f",
   "metadata": {},
   "outputs": [],
   "source": [
    "rates_df = pd.DataFrame(data = rates, columns = ['Дата', 'USD','EUR'])"
   ]
  },
  {
   "cell_type": "code",
   "execution_count": 125,
   "id": "60251972-7456-4cd3-9a55-0c5c9219a74c",
   "metadata": {},
   "outputs": [
    {
     "data": {
      "text/html": [
       "<div>\n",
       "<style scoped>\n",
       "    .dataframe tbody tr th:only-of-type {\n",
       "        vertical-align: middle;\n",
       "    }\n",
       "\n",
       "    .dataframe tbody tr th {\n",
       "        vertical-align: top;\n",
       "    }\n",
       "\n",
       "    .dataframe thead th {\n",
       "        text-align: right;\n",
       "    }\n",
       "</style>\n",
       "<table border=\"1\" class=\"dataframe\">\n",
       "  <thead>\n",
       "    <tr style=\"text-align: right;\">\n",
       "      <th></th>\n",
       "      <th>Дата</th>\n",
       "      <th>USD</th>\n",
       "      <th>EUR</th>\n",
       "    </tr>\n",
       "  </thead>\n",
       "  <tbody>\n",
       "    <tr>\n",
       "      <th>0</th>\n",
       "      <td>2021-05-07</td>\n",
       "      <td>74.5770</td>\n",
       "      <td>89.6788</td>\n",
       "    </tr>\n",
       "    <tr>\n",
       "      <th>1</th>\n",
       "      <td>2021-12-27</td>\n",
       "      <td>73.1886</td>\n",
       "      <td>82.9300</td>\n",
       "    </tr>\n",
       "    <tr>\n",
       "      <th>2</th>\n",
       "      <td>2021-07-23</td>\n",
       "      <td>73.6945</td>\n",
       "      <td>86.9227</td>\n",
       "    </tr>\n",
       "    <tr>\n",
       "      <th>3</th>\n",
       "      <td>2021-05-03</td>\n",
       "      <td>74.8451</td>\n",
       "      <td>90.5850</td>\n",
       "    </tr>\n",
       "    <tr>\n",
       "      <th>4</th>\n",
       "      <td>2021-11-13</td>\n",
       "      <td>71.8118</td>\n",
       "      <td>82.2173</td>\n",
       "    </tr>\n",
       "    <tr>\n",
       "      <th>...</th>\n",
       "      <td>...</td>\n",
       "      <td>...</td>\n",
       "      <td>...</td>\n",
       "    </tr>\n",
       "    <tr>\n",
       "      <th>181</th>\n",
       "      <td>2021-03-14</td>\n",
       "      <td>73.5081</td>\n",
       "      <td>87.7981</td>\n",
       "    </tr>\n",
       "    <tr>\n",
       "      <th>182</th>\n",
       "      <td>2021-10-23</td>\n",
       "      <td>70.8623</td>\n",
       "      <td>82.4979</td>\n",
       "    </tr>\n",
       "    <tr>\n",
       "      <th>183</th>\n",
       "      <td>2021-08-19</td>\n",
       "      <td>73.4633</td>\n",
       "      <td>86.1210</td>\n",
       "    </tr>\n",
       "    <tr>\n",
       "      <th>184</th>\n",
       "      <td>2021-12-30</td>\n",
       "      <td>73.6514</td>\n",
       "      <td>83.2040</td>\n",
       "    </tr>\n",
       "    <tr>\n",
       "      <th>185</th>\n",
       "      <td>2021-09-30</td>\n",
       "      <td>72.7608</td>\n",
       "      <td>84.8755</td>\n",
       "    </tr>\n",
       "  </tbody>\n",
       "</table>\n",
       "<p>186 rows × 3 columns</p>\n",
       "</div>"
      ],
      "text/plain": [
       "          Дата      USD      EUR\n",
       "0   2021-05-07  74.5770  89.6788\n",
       "1   2021-12-27  73.1886  82.9300\n",
       "2   2021-07-23  73.6945  86.9227\n",
       "3   2021-05-03  74.8451  90.5850\n",
       "4   2021-11-13  71.8118  82.2173\n",
       "..         ...      ...      ...\n",
       "181 2021-03-14  73.5081  87.7981\n",
       "182 2021-10-23  70.8623  82.4979\n",
       "183 2021-08-19  73.4633  86.1210\n",
       "184 2021-12-30  73.6514  83.2040\n",
       "185 2021-09-30  72.7608  84.8755\n",
       "\n",
       "[186 rows x 3 columns]"
      ]
     },
     "execution_count": 125,
     "metadata": {},
     "output_type": "execute_result"
    }
   ],
   "source": [
    "rates_df"
   ]
  },
  {
   "cell_type": "code",
   "execution_count": 49,
   "id": "43b84440-0bee-464e-8ad9-49e51be5c0c3",
   "metadata": {},
   "outputs": [],
   "source": [
    "rates_df['RUB'] = 1.0"
   ]
  },
  {
   "cell_type": "code",
   "execution_count": 51,
   "id": "e9dbb8e7-0b73-43be-9396-65c9dc80b5e5",
   "metadata": {},
   "outputs": [],
   "source": [
    "rates_df.to_csv('my_rates.csv', index = False)"
   ]
  },
  {
   "cell_type": "code",
   "execution_count": 129,
   "id": "3bdec449-1a7f-4721-b0bc-726ab4bc389f",
   "metadata": {},
   "outputs": [],
   "source": [
    "payments = pd.read_csv('payments.csv', usecols = ['ФИО', 'Дата рождения'], parse_dates = ['Дата рождения'])"
   ]
  },
  {
   "cell_type": "code",
   "execution_count": 131,
   "id": "562b28ef-bb1e-439d-91a5-2e7249de16d1",
   "metadata": {},
   "outputs": [],
   "source": [
    "users = payments.drop_duplicates()"
   ]
  },
  {
   "cell_type": "code",
   "execution_count": 133,
   "id": "a8430839-a275-4ebf-a79f-838a261d72af",
   "metadata": {},
   "outputs": [
    {
     "data": {
      "text/html": [
       "<div>\n",
       "<style scoped>\n",
       "    .dataframe tbody tr th:only-of-type {\n",
       "        vertical-align: middle;\n",
       "    }\n",
       "\n",
       "    .dataframe tbody tr th {\n",
       "        vertical-align: top;\n",
       "    }\n",
       "\n",
       "    .dataframe thead th {\n",
       "        text-align: right;\n",
       "    }\n",
       "</style>\n",
       "<table border=\"1\" class=\"dataframe\">\n",
       "  <thead>\n",
       "    <tr style=\"text-align: right;\">\n",
       "      <th></th>\n",
       "      <th>ФИО</th>\n",
       "      <th>Дата рождения</th>\n",
       "    </tr>\n",
       "  </thead>\n",
       "  <tbody>\n",
       "    <tr>\n",
       "      <th>5</th>\n",
       "      <td>Беляева Вероника Александровна</td>\n",
       "      <td>1965-12-09</td>\n",
       "    </tr>\n",
       "    <tr>\n",
       "      <th>124</th>\n",
       "      <td>Беляева Вероника Александровна</td>\n",
       "      <td>1994-03-08</td>\n",
       "    </tr>\n",
       "  </tbody>\n",
       "</table>\n",
       "</div>"
      ],
      "text/plain": [
       "                                ФИО Дата рождения\n",
       "5    Беляева Вероника Александровна    1965-12-09\n",
       "124  Беляева Вероника Александровна    1994-03-08"
      ]
     },
     "execution_count": 133,
     "metadata": {},
     "output_type": "execute_result"
    }
   ],
   "source": [
    "users[users.duplicated(subset = ['ФИО'], keep = False)]"
   ]
  },
  {
   "cell_type": "code",
   "execution_count": 135,
   "id": "f14c79db-044d-490e-8077-29dcf967a3b6",
   "metadata": {},
   "outputs": [
    {
     "name": "stderr",
     "output_type": "stream",
     "text": [
      "C:\\Users\\Тимур\\AppData\\Local\\Temp\\ipykernel_15780\\500864007.py:1: SettingWithCopyWarning: \n",
      "A value is trying to be set on a copy of a slice from a DataFrame.\n",
      "Try using .loc[row_indexer,col_indexer] = value instead\n",
      "\n",
      "See the caveats in the documentation: https://pandas.pydata.org/pandas-docs/stable/user_guide/indexing.html#returning-a-view-versus-a-copy\n",
      "  users['Последняя буква'] = users['ФИО'].str[-1]\n"
     ]
    }
   ],
   "source": [
    "users['Последняя буква'] = users['ФИО'].str[-1]"
   ]
  },
  {
   "cell_type": "code",
   "execution_count": 137,
   "id": "c8212d02-67c9-4a73-9de5-084694986b92",
   "metadata": {},
   "outputs": [
    {
     "data": {
      "text/plain": [
       "array(['ч', 'а'], dtype=object)"
      ]
     },
     "execution_count": 137,
     "metadata": {},
     "output_type": "execute_result"
    }
   ],
   "source": [
    "users['Последняя буква'].unique()"
   ]
  },
  {
   "cell_type": "code",
   "execution_count": 139,
   "id": "555a35e3-3d20-4415-b54a-5a6923c8edf3",
   "metadata": {},
   "outputs": [],
   "source": [
    "import numpy as np"
   ]
  },
  {
   "cell_type": "code",
   "execution_count": 19,
   "id": "40200c59-cc9c-4d0b-b59e-e840b88f87e4",
   "metadata": {},
   "outputs": [
    {
     "name": "stderr",
     "output_type": "stream",
     "text": [
      "C:\\Users\\Тимур\\AppData\\Local\\Temp\\ipykernel_15780\\3863356004.py:1: SettingWithCopyWarning: \n",
      "A value is trying to be set on a copy of a slice from a DataFrame.\n",
      "Try using .loc[row_indexer,col_indexer] = value instead\n",
      "\n",
      "See the caveats in the documentation: https://pandas.pydata.org/pandas-docs/stable/user_guide/indexing.html#returning-a-view-versus-a-copy\n",
      "  users['Пол'] = np.where(users['Последняя буква'] == 'ч', 'Мужчины', 'Женщины')\n"
     ]
    }
   ],
   "source": [
    "users['Пол'] = np.where(users['Последняя буква'] == 'ч', 'Мужчины', 'Женщины')"
   ]
  },
  {
   "cell_type": "code",
   "execution_count": 141,
   "id": "20a377d4-00f7-4a4c-a3cc-5e67eb681998",
   "metadata": {},
   "outputs": [
    {
     "data": {
      "text/html": [
       "<div>\n",
       "<style scoped>\n",
       "    .dataframe tbody tr th:only-of-type {\n",
       "        vertical-align: middle;\n",
       "    }\n",
       "\n",
       "    .dataframe tbody tr th {\n",
       "        vertical-align: top;\n",
       "    }\n",
       "\n",
       "    .dataframe thead th {\n",
       "        text-align: right;\n",
       "    }\n",
       "</style>\n",
       "<table border=\"1\" class=\"dataframe\">\n",
       "  <thead>\n",
       "    <tr style=\"text-align: right;\">\n",
       "      <th></th>\n",
       "      <th>ФИО</th>\n",
       "      <th>Дата рождения</th>\n",
       "      <th>Последняя буква</th>\n",
       "    </tr>\n",
       "  </thead>\n",
       "  <tbody>\n",
       "    <tr>\n",
       "      <th>0</th>\n",
       "      <td>Матвеев Виктор Васильевич</td>\n",
       "      <td>1975-12-12</td>\n",
       "      <td>ч</td>\n",
       "    </tr>\n",
       "    <tr>\n",
       "      <th>1</th>\n",
       "      <td>Федорова Александра Алексеевна</td>\n",
       "      <td>1990-05-02</td>\n",
       "      <td>а</td>\n",
       "    </tr>\n",
       "    <tr>\n",
       "      <th>2</th>\n",
       "      <td>Лавров Данила Тимофеевич</td>\n",
       "      <td>1967-07-06</td>\n",
       "      <td>ч</td>\n",
       "    </tr>\n",
       "    <tr>\n",
       "      <th>3</th>\n",
       "      <td>Волошин Даниил Дмитриевич</td>\n",
       "      <td>1964-10-01</td>\n",
       "      <td>ч</td>\n",
       "    </tr>\n",
       "    <tr>\n",
       "      <th>4</th>\n",
       "      <td>Харитонова Серафима Глебовна</td>\n",
       "      <td>1975-01-31</td>\n",
       "      <td>а</td>\n",
       "    </tr>\n",
       "    <tr>\n",
       "      <th>...</th>\n",
       "      <td>...</td>\n",
       "      <td>...</td>\n",
       "      <td>...</td>\n",
       "    </tr>\n",
       "    <tr>\n",
       "      <th>988</th>\n",
       "      <td>Кудрявцева София Григорьевна</td>\n",
       "      <td>1960-11-04</td>\n",
       "      <td>а</td>\n",
       "    </tr>\n",
       "    <tr>\n",
       "      <th>989</th>\n",
       "      <td>Тихомирова Анастасия Александровна</td>\n",
       "      <td>1967-03-02</td>\n",
       "      <td>а</td>\n",
       "    </tr>\n",
       "    <tr>\n",
       "      <th>992</th>\n",
       "      <td>Лапшина София Владимировна</td>\n",
       "      <td>2001-01-03</td>\n",
       "      <td>а</td>\n",
       "    </tr>\n",
       "    <tr>\n",
       "      <th>998</th>\n",
       "      <td>Верещагина Кристина Платоновна</td>\n",
       "      <td>1959-06-16</td>\n",
       "      <td>а</td>\n",
       "    </tr>\n",
       "    <tr>\n",
       "      <th>999</th>\n",
       "      <td>Павлова Екатерина Романовна</td>\n",
       "      <td>1996-08-25</td>\n",
       "      <td>а</td>\n",
       "    </tr>\n",
       "  </tbody>\n",
       "</table>\n",
       "<p>435 rows × 3 columns</p>\n",
       "</div>"
      ],
      "text/plain": [
       "                                    ФИО Дата рождения Последняя буква\n",
       "0             Матвеев Виктор Васильевич    1975-12-12               ч\n",
       "1        Федорова Александра Алексеевна    1990-05-02               а\n",
       "2              Лавров Данила Тимофеевич    1967-07-06               ч\n",
       "3             Волошин Даниил Дмитриевич    1964-10-01               ч\n",
       "4          Харитонова Серафима Глебовна    1975-01-31               а\n",
       "..                                  ...           ...             ...\n",
       "988        Кудрявцева София Григорьевна    1960-11-04               а\n",
       "989  Тихомирова Анастасия Александровна    1967-03-02               а\n",
       "992          Лапшина София Владимировна    2001-01-03               а\n",
       "998      Верещагина Кристина Платоновна    1959-06-16               а\n",
       "999         Павлова Екатерина Романовна    1996-08-25               а\n",
       "\n",
       "[435 rows x 3 columns]"
      ]
     },
     "execution_count": 141,
     "metadata": {},
     "output_type": "execute_result"
    }
   ],
   "source": [
    "users"
   ]
  },
  {
   "cell_type": "code",
   "execution_count": 143,
   "id": "4286edf4-4a1f-490f-9322-65f3233bfa2b",
   "metadata": {},
   "outputs": [
    {
     "name": "stderr",
     "output_type": "stream",
     "text": [
      "C:\\Users\\Тимур\\AppData\\Local\\Temp\\ipykernel_15780\\4121569145.py:1: SettingWithCopyWarning: \n",
      "A value is trying to be set on a copy of a slice from a DataFrame\n",
      "\n",
      "See the caveats in the documentation: https://pandas.pydata.org/pandas-docs/stable/user_guide/indexing.html#returning-a-view-versus-a-copy\n",
      "  users.drop_duplicates(subset = ['ФИО'], inplace = True)\n"
     ]
    }
   ],
   "source": [
    "users.drop_duplicates(subset = ['ФИО'], inplace = True)"
   ]
  },
  {
   "cell_type": "code",
   "execution_count": 25,
   "id": "b80c0dad-c25c-4d42-b71b-a03e13218d27",
   "metadata": {},
   "outputs": [
    {
     "data": {
      "text/html": [
       "<div>\n",
       "<style scoped>\n",
       "    .dataframe tbody tr th:only-of-type {\n",
       "        vertical-align: middle;\n",
       "    }\n",
       "\n",
       "    .dataframe tbody tr th {\n",
       "        vertical-align: top;\n",
       "    }\n",
       "\n",
       "    .dataframe thead th {\n",
       "        text-align: right;\n",
       "    }\n",
       "</style>\n",
       "<table border=\"1\" class=\"dataframe\">\n",
       "  <thead>\n",
       "    <tr style=\"text-align: right;\">\n",
       "      <th></th>\n",
       "      <th>ФИО</th>\n",
       "      <th>Дата рождения</th>\n",
       "      <th>Последняя буква</th>\n",
       "      <th>Пол</th>\n",
       "    </tr>\n",
       "  </thead>\n",
       "  <tbody>\n",
       "    <tr>\n",
       "      <th>0</th>\n",
       "      <td>Матвеев Виктор Васильевич</td>\n",
       "      <td>1975-12-12</td>\n",
       "      <td>ч</td>\n",
       "      <td>Мужчины</td>\n",
       "    </tr>\n",
       "    <tr>\n",
       "      <th>1</th>\n",
       "      <td>Федорова Александра Алексеевна</td>\n",
       "      <td>1990-05-02</td>\n",
       "      <td>а</td>\n",
       "      <td>Женщины</td>\n",
       "    </tr>\n",
       "    <tr>\n",
       "      <th>2</th>\n",
       "      <td>Лавров Данила Тимофеевич</td>\n",
       "      <td>1967-07-06</td>\n",
       "      <td>ч</td>\n",
       "      <td>Мужчины</td>\n",
       "    </tr>\n",
       "    <tr>\n",
       "      <th>3</th>\n",
       "      <td>Волошин Даниил Дмитриевич</td>\n",
       "      <td>1964-10-01</td>\n",
       "      <td>ч</td>\n",
       "      <td>Мужчины</td>\n",
       "    </tr>\n",
       "    <tr>\n",
       "      <th>4</th>\n",
       "      <td>Харитонова Серафима Глебовна</td>\n",
       "      <td>1975-01-31</td>\n",
       "      <td>а</td>\n",
       "      <td>Женщины</td>\n",
       "    </tr>\n",
       "    <tr>\n",
       "      <th>...</th>\n",
       "      <td>...</td>\n",
       "      <td>...</td>\n",
       "      <td>...</td>\n",
       "      <td>...</td>\n",
       "    </tr>\n",
       "    <tr>\n",
       "      <th>988</th>\n",
       "      <td>Кудрявцева София Григорьевна</td>\n",
       "      <td>1960-11-04</td>\n",
       "      <td>а</td>\n",
       "      <td>Женщины</td>\n",
       "    </tr>\n",
       "    <tr>\n",
       "      <th>989</th>\n",
       "      <td>Тихомирова Анастасия Александровна</td>\n",
       "      <td>1967-03-02</td>\n",
       "      <td>а</td>\n",
       "      <td>Женщины</td>\n",
       "    </tr>\n",
       "    <tr>\n",
       "      <th>992</th>\n",
       "      <td>Лапшина София Владимировна</td>\n",
       "      <td>2001-01-03</td>\n",
       "      <td>а</td>\n",
       "      <td>Женщины</td>\n",
       "    </tr>\n",
       "    <tr>\n",
       "      <th>998</th>\n",
       "      <td>Верещагина Кристина Платоновна</td>\n",
       "      <td>1959-06-16</td>\n",
       "      <td>а</td>\n",
       "      <td>Женщины</td>\n",
       "    </tr>\n",
       "    <tr>\n",
       "      <th>999</th>\n",
       "      <td>Павлова Екатерина Романовна</td>\n",
       "      <td>1996-08-25</td>\n",
       "      <td>а</td>\n",
       "      <td>Женщины</td>\n",
       "    </tr>\n",
       "  </tbody>\n",
       "</table>\n",
       "<p>434 rows × 4 columns</p>\n",
       "</div>"
      ],
      "text/plain": [
       "                                    ФИО Дата рождения Последняя буква      Пол\n",
       "0             Матвеев Виктор Васильевич    1975-12-12               ч  Мужчины\n",
       "1        Федорова Александра Алексеевна    1990-05-02               а  Женщины\n",
       "2              Лавров Данила Тимофеевич    1967-07-06               ч  Мужчины\n",
       "3             Волошин Даниил Дмитриевич    1964-10-01               ч  Мужчины\n",
       "4          Харитонова Серафима Глебовна    1975-01-31               а  Женщины\n",
       "..                                  ...           ...             ...      ...\n",
       "988        Кудрявцева София Григорьевна    1960-11-04               а  Женщины\n",
       "989  Тихомирова Анастасия Александровна    1967-03-02               а  Женщины\n",
       "992          Лапшина София Владимировна    2001-01-03               а  Женщины\n",
       "998      Верещагина Кристина Платоновна    1959-06-16               а  Женщины\n",
       "999         Павлова Екатерина Романовна    1996-08-25               а  Женщины\n",
       "\n",
       "[434 rows x 4 columns]"
      ]
     },
     "execution_count": 25,
     "metadata": {},
     "output_type": "execute_result"
    }
   ],
   "source": [
    "users"
   ]
  },
  {
   "cell_type": "code",
   "execution_count": 147,
   "id": "bc757481-6131-4128-95d3-08f5f67fd587",
   "metadata": {},
   "outputs": [
    {
     "name": "stdout",
     "output_type": "stream",
     "text": [
      "Defaulting to user installation because normal site-packages is not writeable\n",
      "Requirement already satisfied: dadata in c:\\users\\тимур\\appdata\\roaming\\python\\python311\\site-packages (21.10.1)\n",
      "Requirement already satisfied: httpx in c:\\programdata\\anaconda3\\lib\\site-packages (from dadata) (0.26.0)\n",
      "Requirement already satisfied: anyio in c:\\programdata\\anaconda3\\lib\\site-packages (from httpx->dadata) (4.2.0)\n",
      "Requirement already satisfied: certifi in c:\\programdata\\anaconda3\\lib\\site-packages (from httpx->dadata) (2024.2.2)\n",
      "Requirement already satisfied: httpcore==1.* in c:\\programdata\\anaconda3\\lib\\site-packages (from httpx->dadata) (1.0.2)\n",
      "Requirement already satisfied: idna in c:\\programdata\\anaconda3\\lib\\site-packages (from httpx->dadata) (3.4)\n",
      "Requirement already satisfied: sniffio in c:\\programdata\\anaconda3\\lib\\site-packages (from httpx->dadata) (1.3.0)\n",
      "Requirement already satisfied: h11<0.15,>=0.13 in c:\\programdata\\anaconda3\\lib\\site-packages (from httpcore==1.*->httpx->dadata) (0.14.0)\n"
     ]
    }
   ],
   "source": [
    "!pip install dadata"
   ]
  },
  {
   "cell_type": "code",
   "execution_count": 3,
   "id": "1c66987e-285c-4207-a61e-b1452e3ef064",
   "metadata": {},
   "outputs": [],
   "source": [
    "from dadata import Dadata\n",
    "token = \"28e3a371d8d97afff3871cd403a528cdde59e5e6\"\n",
    "dadata = Dadata(token)"
   ]
  },
  {
   "cell_type": "code",
   "execution_count": 11,
   "id": "35785f61-ec4d-4534-b992-b062d0d82dad",
   "metadata": {},
   "outputs": [],
   "source": [
    "payments = pd.read_csv('payments.csv', usecols = ['Адрес доставки'])"
   ]
  },
  {
   "cell_type": "code",
   "execution_count": 13,
   "id": "253dc0c8-480d-4f74-8be7-81e3e1f1f58b",
   "metadata": {},
   "outputs": [],
   "source": [
    "payments.drop_duplicates(inplace = True)"
   ]
  },
  {
   "cell_type": "code",
   "execution_count": 15,
   "id": "bbf8fc9d-4ac2-4e29-ab72-aa68d503dae2",
   "metadata": {},
   "outputs": [
    {
     "data": {
      "text/plain": [
       "855"
      ]
     },
     "execution_count": 15,
     "metadata": {},
     "output_type": "execute_result"
    }
   ],
   "source": [
    "len(payments)"
   ]
  },
  {
   "cell_type": "code",
   "execution_count": 17,
   "id": "b00b265c-941e-4bf8-b4d3-9de9fe80cc3b",
   "metadata": {},
   "outputs": [],
   "source": [
    "payments.reset_index(inplace = True, drop = True)"
   ]
  },
  {
   "cell_type": "code",
   "execution_count": 19,
   "id": "58a1c87a-88c6-4c88-9baf-87bb219f3a8f",
   "metadata": {},
   "outputs": [
    {
     "data": {
      "text/html": [
       "<div>\n",
       "<style scoped>\n",
       "    .dataframe tbody tr th:only-of-type {\n",
       "        vertical-align: middle;\n",
       "    }\n",
       "\n",
       "    .dataframe tbody tr th {\n",
       "        vertical-align: top;\n",
       "    }\n",
       "\n",
       "    .dataframe thead th {\n",
       "        text-align: right;\n",
       "    }\n",
       "</style>\n",
       "<table border=\"1\" class=\"dataframe\">\n",
       "  <thead>\n",
       "    <tr style=\"text-align: right;\">\n",
       "      <th></th>\n",
       "      <th>Адрес доставки</th>\n",
       "    </tr>\n",
       "  </thead>\n",
       "  <tbody>\n",
       "    <tr>\n",
       "      <th>0</th>\n",
       "      <td>199106, Санкт-Петербург г, Средний В.О. пр-кт,...</td>\n",
       "    </tr>\n",
       "    <tr>\n",
       "      <th>1</th>\n",
       "      <td>191025, Санкт-Петербург г, Дмитровский пер, до...</td>\n",
       "    </tr>\n",
       "    <tr>\n",
       "      <th>2</th>\n",
       "      <td>115408, Москва г, Алма-Атинская ул, дом  4</td>\n",
       "    </tr>\n",
       "    <tr>\n",
       "      <th>3</th>\n",
       "      <td>195197, Санкт-Петербург г, Кондратьевский пр-к...</td>\n",
       "    </tr>\n",
       "    <tr>\n",
       "      <th>4</th>\n",
       "      <td>125008, Москва г, Черепановых проезд, дом  38,...</td>\n",
       "    </tr>\n",
       "    <tr>\n",
       "      <th>...</th>\n",
       "      <td>...</td>\n",
       "    </tr>\n",
       "    <tr>\n",
       "      <th>850</th>\n",
       "      <td>107150, Москва г, Ивантеевская ул, дом  1, кор...</td>\n",
       "    </tr>\n",
       "    <tr>\n",
       "      <th>851</th>\n",
       "      <td>127562, Москва г, Декабристов ул, дом  2, корпус</td>\n",
       "    </tr>\n",
       "    <tr>\n",
       "      <th>852</th>\n",
       "      <td>142520, Московская обл, Павлово-Посадский р-н,...</td>\n",
       "    </tr>\n",
       "    <tr>\n",
       "      <th>853</th>\n",
       "      <td>141604, Московская обл, Клинский р-н, Клин г, ...</td>\n",
       "    </tr>\n",
       "    <tr>\n",
       "      <th>854</th>\n",
       "      <td>109428, Москва г, Институтский 1-й проезд, дом  6</td>\n",
       "    </tr>\n",
       "  </tbody>\n",
       "</table>\n",
       "<p>855 rows × 1 columns</p>\n",
       "</div>"
      ],
      "text/plain": [
       "                                        Адрес доставки\n",
       "0    199106, Санкт-Петербург г, Средний В.О. пр-кт,...\n",
       "1    191025, Санкт-Петербург г, Дмитровский пер, до...\n",
       "2           115408, Москва г, Алма-Атинская ул, дом  4\n",
       "3    195197, Санкт-Петербург г, Кондратьевский пр-к...\n",
       "4    125008, Москва г, Черепановых проезд, дом  38,...\n",
       "..                                                 ...\n",
       "850  107150, Москва г, Ивантеевская ул, дом  1, кор...\n",
       "851  127562, Москва г, Декабристов ул, дом  2, корпус \n",
       "852  142520, Московская обл, Павлово-Посадский р-н,...\n",
       "853  141604, Московская обл, Клинский р-н, Клин г, ...\n",
       "854  109428, Москва г, Институтский 1-й проезд, дом  6\n",
       "\n",
       "[855 rows x 1 columns]"
      ]
     },
     "execution_count": 19,
     "metadata": {},
     "output_type": "execute_result"
    }
   ],
   "source": [
    "payments"
   ]
  },
  {
   "cell_type": "code",
   "execution_count": 21,
   "id": "2d283aa9-e7f8-4172-8557-35a880267b91",
   "metadata": {},
   "outputs": [
    {
     "ename": "IndexError",
     "evalue": "list index out of range",
     "output_type": "error",
     "traceback": [
      "\u001b[1;31m---------------------------------------------------------------------------\u001b[0m",
      "\u001b[1;31mIndexError\u001b[0m                                Traceback (most recent call last)",
      "Cell \u001b[1;32mIn[21], line 5\u001b[0m\n\u001b[0;32m      3\u001b[0m address \u001b[38;5;241m=\u001b[39m payments\u001b[38;5;241m.\u001b[39miloc[rowIndex][\u001b[38;5;124m'\u001b[39m\u001b[38;5;124mАдрес доставки\u001b[39m\u001b[38;5;124m'\u001b[39m]\n\u001b[0;32m      4\u001b[0m result \u001b[38;5;241m=\u001b[39m dadata\u001b[38;5;241m.\u001b[39msuggest(\u001b[38;5;124m'\u001b[39m\u001b[38;5;124maddress\u001b[39m\u001b[38;5;124m'\u001b[39m, address)\n\u001b[1;32m----> 5\u001b[0m r \u001b[38;5;241m=\u001b[39m result[\u001b[38;5;241m0\u001b[39m][\u001b[38;5;124m'\u001b[39m\u001b[38;5;124mdata\u001b[39m\u001b[38;5;124m'\u001b[39m]\n\u001b[0;32m      6\u001b[0m lat \u001b[38;5;241m=\u001b[39m r[\u001b[38;5;124m'\u001b[39m\u001b[38;5;124mgeo_lat\u001b[39m\u001b[38;5;124m'\u001b[39m]\n\u001b[0;32m      7\u001b[0m lon \u001b[38;5;241m=\u001b[39m r[\u001b[38;5;124m'\u001b[39m\u001b[38;5;124mgeo_lon\u001b[39m\u001b[38;5;124m'\u001b[39m]\n",
      "\u001b[1;31mIndexError\u001b[0m: list index out of range"
     ]
    }
   ],
   "source": [
    "points = []\n",
    "for rowIndex, row in payments.iterrows():\n",
    "    address = payments.iloc[rowIndex]['Адрес доставки']\n",
    "    result = dadata.suggest('address', address)\n",
    "    r = result[0]['data']\n",
    "    lat = r['geo_lat']\n",
    "    lon = r['geo_lon']\n",
    "    city = r['city']\n",
    "    point = [address, city, lat, lon]\n",
    "    points.append(point)"
   ]
  },
  {
   "cell_type": "code",
   "execution_count": 23,
   "id": "5f32864a-6224-40d0-8ae3-e4850480d705",
   "metadata": {},
   "outputs": [],
   "source": [
    "geo_df = pd.DataFrame(data = points, columns = ['Адрес', 'Город', 'Широта', 'Долгота'])"
   ]
  },
  {
   "cell_type": "code",
   "execution_count": 25,
   "id": "f200ac6c-1867-4787-8c18-8767e58d4341",
   "metadata": {},
   "outputs": [
    {
     "data": {
      "text/html": [
       "<div>\n",
       "<style scoped>\n",
       "    .dataframe tbody tr th:only-of-type {\n",
       "        vertical-align: middle;\n",
       "    }\n",
       "\n",
       "    .dataframe tbody tr th {\n",
       "        vertical-align: top;\n",
       "    }\n",
       "\n",
       "    .dataframe thead th {\n",
       "        text-align: right;\n",
       "    }\n",
       "</style>\n",
       "<table border=\"1\" class=\"dataframe\">\n",
       "  <thead>\n",
       "    <tr style=\"text-align: right;\">\n",
       "      <th></th>\n",
       "      <th>Адрес</th>\n",
       "      <th>Город</th>\n",
       "      <th>Широта</th>\n",
       "      <th>Долгота</th>\n",
       "    </tr>\n",
       "  </thead>\n",
       "  <tbody>\n",
       "    <tr>\n",
       "      <th>0</th>\n",
       "      <td>199106, Санкт-Петербург г, Средний В.О. пр-кт,...</td>\n",
       "      <td>Санкт-Петербург</td>\n",
       "      <td>59.931995</td>\n",
       "      <td>30.242619</td>\n",
       "    </tr>\n",
       "    <tr>\n",
       "      <th>1</th>\n",
       "      <td>191025, Санкт-Петербург г, Дмитровский пер, до...</td>\n",
       "      <td>Санкт-Петербург</td>\n",
       "      <td>59.929745</td>\n",
       "      <td>30.349762</td>\n",
       "    </tr>\n",
       "    <tr>\n",
       "      <th>2</th>\n",
       "      <td>115408, Москва г, Алма-Атинская ул, дом  4</td>\n",
       "      <td>Москва</td>\n",
       "      <td>55.6413</td>\n",
       "      <td>37.767582</td>\n",
       "    </tr>\n",
       "    <tr>\n",
       "      <th>3</th>\n",
       "      <td>195197, Санкт-Петербург г, Кондратьевский пр-к...</td>\n",
       "      <td>Санкт-Петербург</td>\n",
       "      <td>59.97056</td>\n",
       "      <td>30.382316</td>\n",
       "    </tr>\n",
       "    <tr>\n",
       "      <th>4</th>\n",
       "      <td>125008, Москва г, Черепановых проезд, дом  38,...</td>\n",
       "      <td>Москва</td>\n",
       "      <td>55.841584</td>\n",
       "      <td>37.530858</td>\n",
       "    </tr>\n",
       "    <tr>\n",
       "      <th>5</th>\n",
       "      <td>197350, Санкт-Петербург г, Королева пр-кт, дом...</td>\n",
       "      <td>Санкт-Петербург</td>\n",
       "      <td>60.032461</td>\n",
       "      <td>30.243671</td>\n",
       "    </tr>\n",
       "    <tr>\n",
       "      <th>6</th>\n",
       "      <td>127018, Москва г, Ямская 1-я ул, дом  3/7</td>\n",
       "      <td>Москва</td>\n",
       "      <td>55.794361</td>\n",
       "      <td>37.609344</td>\n",
       "    </tr>\n",
       "    <tr>\n",
       "      <th>7</th>\n",
       "      <td>123154, Москва г, Маршала Тухачевского ул, дом...</td>\n",
       "      <td>Москва</td>\n",
       "      <td>55.784092</td>\n",
       "      <td>37.476635</td>\n",
       "    </tr>\n",
       "    <tr>\n",
       "      <th>8</th>\n",
       "      <td>198326, Санкт-Петербург г, Политрука Пасечника...</td>\n",
       "      <td>Санкт-Петербург</td>\n",
       "      <td>59.779762</td>\n",
       "      <td>30.106947</td>\n",
       "    </tr>\n",
       "    <tr>\n",
       "      <th>9</th>\n",
       "      <td>109147, Москва г, Нижегородская ул, дом  2, ко...</td>\n",
       "      <td>Москва</td>\n",
       "      <td>55.73846</td>\n",
       "      <td>37.674499</td>\n",
       "    </tr>\n",
       "  </tbody>\n",
       "</table>\n",
       "</div>"
      ],
      "text/plain": [
       "                                               Адрес            Город  \\\n",
       "0  199106, Санкт-Петербург г, Средний В.О. пр-кт,...  Санкт-Петербург   \n",
       "1  191025, Санкт-Петербург г, Дмитровский пер, до...  Санкт-Петербург   \n",
       "2         115408, Москва г, Алма-Атинская ул, дом  4           Москва   \n",
       "3  195197, Санкт-Петербург г, Кондратьевский пр-к...  Санкт-Петербург   \n",
       "4  125008, Москва г, Черепановых проезд, дом  38,...           Москва   \n",
       "5  197350, Санкт-Петербург г, Королева пр-кт, дом...  Санкт-Петербург   \n",
       "6          127018, Москва г, Ямская 1-я ул, дом  3/7           Москва   \n",
       "7  123154, Москва г, Маршала Тухачевского ул, дом...           Москва   \n",
       "8  198326, Санкт-Петербург г, Политрука Пасечника...  Санкт-Петербург   \n",
       "9  109147, Москва г, Нижегородская ул, дом  2, ко...           Москва   \n",
       "\n",
       "      Широта    Долгота  \n",
       "0  59.931995  30.242619  \n",
       "1  59.929745  30.349762  \n",
       "2    55.6413  37.767582  \n",
       "3   59.97056  30.382316  \n",
       "4  55.841584  37.530858  \n",
       "5  60.032461  30.243671  \n",
       "6  55.794361  37.609344  \n",
       "7  55.784092  37.476635  \n",
       "8  59.779762  30.106947  \n",
       "9   55.73846  37.674499  "
      ]
     },
     "execution_count": 25,
     "metadata": {},
     "output_type": "execute_result"
    }
   ],
   "source": [
    "geo_df"
   ]
  },
  {
   "cell_type": "code",
   "execution_count": 27,
   "id": "0eb1ba22-e791-43de-8700-60e0df33560d",
   "metadata": {},
   "outputs": [],
   "source": [
    "geo_df.to_csv('my_geo.csv', index = False)"
   ]
  },
  {
   "cell_type": "code",
   "execution_count": null,
   "id": "ebb343ab-05ff-4765-8d0e-46d06bead768",
   "metadata": {},
   "outputs": [],
   "source": []
  }
 ],
 "metadata": {
  "kernelspec": {
   "display_name": "Python 3 (ipykernel)",
   "language": "python",
   "name": "python3"
  },
  "language_info": {
   "codemirror_mode": {
    "name": "ipython",
    "version": 3
   },
   "file_extension": ".py",
   "mimetype": "text/x-python",
   "name": "python",
   "nbconvert_exporter": "python",
   "pygments_lexer": "ipython3",
   "version": "3.11.7"
  }
 },
 "nbformat": 4,
 "nbformat_minor": 5
}
